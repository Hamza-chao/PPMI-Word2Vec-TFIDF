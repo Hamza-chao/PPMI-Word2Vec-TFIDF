{
 "cells": [
  {
   "cell_type": "code",
   "execution_count": 2,
   "id": "xmTThrq11oSe",
   "metadata": {
    "colab": {
     "base_uri": "https://localhost:8080/"
    },
    "id": "xmTThrq11oSe",
    "outputId": "6b2df28f-55c0-4e41-ceee-09dc7ab3ad68",
    "tags": []
   },
   "outputs": [
    {
     "name": "stdout",
     "output_type": "stream",
     "text": [
      "Collecting tensorflow\n",
      "  Downloading tensorflow-2.11.0-cp37-cp37m-manylinux_2_17_x86_64.manylinux2014_x86_64.whl.metadata (3.1 kB)\n",
      "Requirement already satisfied: absl-py>=1.0.0 in /home/mchao002/envs/st-unet/lib/python3.7/site-packages (from tensorflow) (2.1.0)\n",
      "Collecting astunparse>=1.6.0 (from tensorflow)\n",
      "  Downloading astunparse-1.6.3-py2.py3-none-any.whl.metadata (4.4 kB)\n",
      "Collecting flatbuffers>=2.0 (from tensorflow)\n",
      "  Downloading flatbuffers-25.2.10-py2.py3-none-any.whl.metadata (875 bytes)\n",
      "Collecting gast<=0.4.0,>=0.2.1 (from tensorflow)\n",
      "  Downloading gast-0.4.0-py3-none-any.whl.metadata (1.1 kB)\n",
      "Collecting google-pasta>=0.1.1 (from tensorflow)\n",
      "  Downloading google_pasta-0.2.0-py3-none-any.whl.metadata (814 bytes)\n",
      "Requirement already satisfied: grpcio<2.0,>=1.24.3 in /home/mchao002/envs/st-unet/lib/python3.7/site-packages (from tensorflow) (1.62.3)\n",
      "Requirement already satisfied: h5py>=2.9.0 in /home/mchao002/envs/st-unet/lib/python3.7/site-packages (from tensorflow) (3.8.0)\n",
      "Collecting keras<2.12,>=2.11.0 (from tensorflow)\n",
      "  Downloading keras-2.11.0-py2.py3-none-any.whl.metadata (1.4 kB)\n",
      "Collecting libclang>=13.0.0 (from tensorflow)\n",
      "  Downloading libclang-18.1.1-py2.py3-none-manylinux2010_x86_64.whl.metadata (5.2 kB)\n",
      "Requirement already satisfied: numpy>=1.20 in /home/mchao002/envs/st-unet/lib/python3.7/site-packages (from tensorflow) (1.21.6)\n",
      "Collecting opt-einsum>=2.3.2 (from tensorflow)\n",
      "  Downloading opt_einsum-3.3.0-py3-none-any.whl.metadata (6.5 kB)\n",
      "Requirement already satisfied: packaging in /home/mchao002/envs/st-unet/lib/python3.7/site-packages (from tensorflow) (24.0)\n",
      "Collecting protobuf<3.20,>=3.9.2 (from tensorflow)\n",
      "  Downloading protobuf-3.19.6-cp37-cp37m-manylinux_2_17_x86_64.manylinux2014_x86_64.whl.metadata (787 bytes)\n",
      "Requirement already satisfied: setuptools in /home/mchao002/envs/st-unet/lib/python3.7/site-packages (from tensorflow) (69.0.3)\n",
      "Requirement already satisfied: six>=1.12.0 in /home/mchao002/envs/st-unet/lib/python3.7/site-packages (from tensorflow) (1.16.0)\n",
      "Requirement already satisfied: tensorboard<2.12,>=2.11 in /home/mchao002/envs/st-unet/lib/python3.7/site-packages (from tensorflow) (2.11.2)\n",
      "Collecting tensorflow-estimator<2.12,>=2.11.0 (from tensorflow)\n",
      "  Downloading tensorflow_estimator-2.11.0-py2.py3-none-any.whl.metadata (1.3 kB)\n",
      "Collecting termcolor>=1.1.0 (from tensorflow)\n",
      "  Downloading termcolor-2.3.0-py3-none-any.whl.metadata (5.3 kB)\n",
      "Requirement already satisfied: typing-extensions>=3.6.6 in /home/mchao002/envs/st-unet/lib/python3.7/site-packages (from tensorflow) (4.7.1)\n",
      "Collecting wrapt>=1.11.0 (from tensorflow)\n",
      "  Downloading wrapt-1.16.0-cp37-cp37m-manylinux_2_5_x86_64.manylinux1_x86_64.manylinux_2_17_x86_64.manylinux2014_x86_64.whl.metadata (6.6 kB)\n",
      "Collecting tensorflow-io-gcs-filesystem>=0.23.1 (from tensorflow)\n",
      "  Downloading tensorflow_io_gcs_filesystem-0.34.0-cp37-cp37m-manylinux_2_12_x86_64.manylinux2010_x86_64.whl.metadata (14 kB)\n",
      "Requirement already satisfied: wheel<1.0,>=0.23.0 in /home/mchao002/envs/st-unet/lib/python3.7/site-packages (from astunparse>=1.6.0->tensorflow) (0.42.0)\n",
      "Requirement already satisfied: google-auth<3,>=1.6.3 in /home/mchao002/envs/st-unet/lib/python3.7/site-packages (from tensorboard<2.12,>=2.11->tensorflow) (2.36.0)\n",
      "Requirement already satisfied: google-auth-oauthlib<0.5,>=0.4.1 in /home/mchao002/envs/st-unet/lib/python3.7/site-packages (from tensorboard<2.12,>=2.11->tensorflow) (0.4.6)\n",
      "Requirement already satisfied: markdown>=2.6.8 in /home/mchao002/envs/st-unet/lib/python3.7/site-packages (from tensorboard<2.12,>=2.11->tensorflow) (3.4.4)\n",
      "Requirement already satisfied: requests<3,>=2.21.0 in /home/mchao002/envs/st-unet/lib/python3.7/site-packages (from tensorboard<2.12,>=2.11->tensorflow) (2.31.0)\n",
      "Requirement already satisfied: tensorboard-data-server<0.7.0,>=0.6.0 in /home/mchao002/envs/st-unet/lib/python3.7/site-packages (from tensorboard<2.12,>=2.11->tensorflow) (0.6.1)\n",
      "Requirement already satisfied: tensorboard-plugin-wit>=1.6.0 in /home/mchao002/envs/st-unet/lib/python3.7/site-packages (from tensorboard<2.12,>=2.11->tensorflow) (1.8.1)\n",
      "Requirement already satisfied: werkzeug>=1.0.1 in /home/mchao002/envs/st-unet/lib/python3.7/site-packages (from tensorboard<2.12,>=2.11->tensorflow) (2.2.3)\n",
      "Requirement already satisfied: cachetools<6.0,>=2.0.0 in /home/mchao002/envs/st-unet/lib/python3.7/site-packages (from google-auth<3,>=1.6.3->tensorboard<2.12,>=2.11->tensorflow) (5.5.0)\n",
      "Requirement already satisfied: pyasn1-modules>=0.2.1 in /home/mchao002/envs/st-unet/lib/python3.7/site-packages (from google-auth<3,>=1.6.3->tensorboard<2.12,>=2.11->tensorflow) (0.3.0)\n",
      "Requirement already satisfied: rsa<5,>=3.1.4 in /home/mchao002/envs/st-unet/lib/python3.7/site-packages (from google-auth<3,>=1.6.3->tensorboard<2.12,>=2.11->tensorflow) (4.9)\n",
      "Requirement already satisfied: requests-oauthlib>=0.7.0 in /home/mchao002/envs/st-unet/lib/python3.7/site-packages (from google-auth-oauthlib<0.5,>=0.4.1->tensorboard<2.12,>=2.11->tensorflow) (2.0.0)\n",
      "Requirement already satisfied: importlib-metadata>=4.4 in /home/mchao002/envs/st-unet/lib/python3.7/site-packages (from markdown>=2.6.8->tensorboard<2.12,>=2.11->tensorflow) (6.7.0)\n",
      "Requirement already satisfied: charset-normalizer<4,>=2 in /home/mchao002/envs/st-unet/lib/python3.7/site-packages (from requests<3,>=2.21.0->tensorboard<2.12,>=2.11->tensorflow) (3.4.0)\n",
      "Requirement already satisfied: idna<4,>=2.5 in /home/mchao002/envs/st-unet/lib/python3.7/site-packages (from requests<3,>=2.21.0->tensorboard<2.12,>=2.11->tensorflow) (3.10)\n",
      "Requirement already satisfied: urllib3<3,>=1.21.1 in /home/mchao002/envs/st-unet/lib/python3.7/site-packages (from requests<3,>=2.21.0->tensorboard<2.12,>=2.11->tensorflow) (2.0.7)\n",
      "Requirement already satisfied: certifi>=2017.4.17 in /home/mchao002/envs/st-unet/lib/python3.7/site-packages (from requests<3,>=2.21.0->tensorboard<2.12,>=2.11->tensorflow) (2024.8.30)\n",
      "Requirement already satisfied: MarkupSafe>=2.1.1 in /home/mchao002/envs/st-unet/lib/python3.7/site-packages (from werkzeug>=1.0.1->tensorboard<2.12,>=2.11->tensorflow) (2.1.5)\n",
      "Requirement already satisfied: zipp>=0.5 in /home/mchao002/envs/st-unet/lib/python3.7/site-packages (from importlib-metadata>=4.4->markdown>=2.6.8->tensorboard<2.12,>=2.11->tensorflow) (3.15.0)\n",
      "Requirement already satisfied: pyasn1<0.6.0,>=0.4.6 in /home/mchao002/envs/st-unet/lib/python3.7/site-packages (from pyasn1-modules>=0.2.1->google-auth<3,>=1.6.3->tensorboard<2.12,>=2.11->tensorflow) (0.5.1)\n",
      "Requirement already satisfied: oauthlib>=3.0.0 in /home/mchao002/envs/st-unet/lib/python3.7/site-packages (from requests-oauthlib>=0.7.0->google-auth-oauthlib<0.5,>=0.4.1->tensorboard<2.12,>=2.11->tensorflow) (3.2.2)\n",
      "Downloading tensorflow-2.11.0-cp37-cp37m-manylinux_2_17_x86_64.manylinux2014_x86_64.whl (588.3 MB)\n",
      "\u001b[2K   \u001b[90m━━━━━━━━━━━━━━━━━━━━━━━━━━━━━━━━━━━━━━━━\u001b[0m \u001b[32m588.3/588.3 MB\u001b[0m \u001b[31m1.7 MB/s\u001b[0m eta \u001b[36m0:00:00\u001b[0m:00:01\u001b[0m00:01\u001b[0m\n",
      "\u001b[?25hDownloading astunparse-1.6.3-py2.py3-none-any.whl (12 kB)\n",
      "Downloading flatbuffers-25.2.10-py2.py3-none-any.whl (30 kB)\n",
      "Downloading gast-0.4.0-py3-none-any.whl (9.8 kB)\n",
      "Downloading google_pasta-0.2.0-py3-none-any.whl (57 kB)\n",
      "\u001b[2K   \u001b[90m━━━━━━━━━━━━━━━━━━━━━━━━━━━━━━━━━━━━━━━━\u001b[0m \u001b[32m57.5/57.5 kB\u001b[0m \u001b[31m2.7 MB/s\u001b[0m eta \u001b[36m0:00:00\u001b[0m\n",
      "\u001b[?25hDownloading keras-2.11.0-py2.py3-none-any.whl (1.7 MB)\n",
      "\u001b[2K   \u001b[90m━━━━━━━━━━━━━━━━━━━━━━━━━━━━━━━━━━━━━━━━\u001b[0m \u001b[32m1.7/1.7 MB\u001b[0m \u001b[31m30.1 MB/s\u001b[0m eta \u001b[36m0:00:00\u001b[0m:00:01\u001b[0m\n",
      "\u001b[?25hDownloading libclang-18.1.1-py2.py3-none-manylinux2010_x86_64.whl (24.5 MB)\n",
      "\u001b[2K   \u001b[90m━━━━━━━━━━━━━━━━━━━━━━━━━━━━━━━━━━━━━━━━\u001b[0m \u001b[32m24.5/24.5 MB\u001b[0m \u001b[31m28.6 MB/s\u001b[0m eta \u001b[36m0:00:00\u001b[0m:00:01\u001b[0m00:01\u001b[0m\n",
      "\u001b[?25hDownloading opt_einsum-3.3.0-py3-none-any.whl (65 kB)\n",
      "\u001b[2K   \u001b[90m━━━━━━━━━━━━━━━━━━━━━━━━━━━━━━━━━━━━━━━━\u001b[0m \u001b[32m65.5/65.5 kB\u001b[0m \u001b[31m3.3 MB/s\u001b[0m eta \u001b[36m0:00:00\u001b[0m\n",
      "\u001b[?25hDownloading protobuf-3.19.6-cp37-cp37m-manylinux_2_17_x86_64.manylinux2014_x86_64.whl (1.1 MB)\n",
      "\u001b[2K   \u001b[90m━━━━━━━━━━━━━━━━━━━━━━━━━━━━━━━━━━━━━━━━\u001b[0m \u001b[32m1.1/1.1 MB\u001b[0m \u001b[31m23.3 MB/s\u001b[0m eta \u001b[36m0:00:00\u001b[0m00:01\u001b[0m\n",
      "\u001b[?25hDownloading tensorflow_estimator-2.11.0-py2.py3-none-any.whl (439 kB)\n",
      "\u001b[2K   \u001b[90m━━━━━━━━━━━━━━━━━━━━━━━━━━━━━━━━━━━━━━━━\u001b[0m \u001b[32m439.2/439.2 kB\u001b[0m \u001b[31m16.0 MB/s\u001b[0m eta \u001b[36m0:00:00\u001b[0m\n",
      "\u001b[?25hDownloading tensorflow_io_gcs_filesystem-0.34.0-cp37-cp37m-manylinux_2_12_x86_64.manylinux2010_x86_64.whl (2.4 MB)\n",
      "\u001b[2K   \u001b[90m━━━━━━━━━━━━━━━━━━━━━━━━━━━━━━━━━━━━━━━━\u001b[0m \u001b[32m2.4/2.4 MB\u001b[0m \u001b[31m33.0 MB/s\u001b[0m eta \u001b[36m0:00:00\u001b[0m:00:01\u001b[0m\n",
      "\u001b[?25hDownloading termcolor-2.3.0-py3-none-any.whl (6.9 kB)\n",
      "Downloading wrapt-1.16.0-cp37-cp37m-manylinux_2_5_x86_64.manylinux1_x86_64.manylinux_2_17_x86_64.manylinux2014_x86_64.whl (77 kB)\n",
      "\u001b[2K   \u001b[90m━━━━━━━━━━━━━━━━━━━━━━━━━━━━━━━━━━━━━━━━\u001b[0m \u001b[32m77.5/77.5 kB\u001b[0m \u001b[31m3.5 MB/s\u001b[0m eta \u001b[36m0:00:00\u001b[0m\n",
      "\u001b[?25hInstalling collected packages: libclang, flatbuffers, wrapt, termcolor, tensorflow-io-gcs-filesystem, tensorflow-estimator, protobuf, opt-einsum, keras, google-pasta, gast, astunparse, tensorflow\n",
      "  Attempting uninstall: protobuf\n",
      "    Found existing installation: protobuf 3.20.3\n",
      "    Uninstalling protobuf-3.20.3:\n",
      "      Successfully uninstalled protobuf-3.20.3\n",
      "\u001b[31mERROR: pip's dependency resolver does not currently take into account all the packages that are installed. This behaviour is the source of the following dependency conflicts.\n",
      "tensorboardx 2.6.2.2 requires protobuf>=3.20, but you have protobuf 3.19.6 which is incompatible.\u001b[0m\u001b[31m\n",
      "\u001b[0mSuccessfully installed astunparse-1.6.3 flatbuffers-25.2.10 gast-0.4.0 google-pasta-0.2.0 keras-2.11.0 libclang-18.1.1 opt-einsum-3.3.0 protobuf-3.19.6 tensorflow-2.11.0 tensorflow-estimator-2.11.0 tensorflow-io-gcs-filesystem-0.34.0 termcolor-2.3.0 wrapt-1.16.0\n",
      "Note: you may need to restart the kernel to use updated packages.\n"
     ]
    }
   ],
   "source": [
    "pip install tensorflow"
   ]
  },
  {
   "cell_type": "code",
   "execution_count": 3,
   "id": "cabbc321-58c5-4588-9e04-5cb8894f7e27",
   "metadata": {},
   "outputs": [
    {
     "name": "stdout",
     "output_type": "stream",
     "text": [
      "Collecting seaborn\n",
      "  Downloading seaborn-0.12.2-py3-none-any.whl.metadata (5.4 kB)\n",
      "Requirement already satisfied: numpy!=1.24.0,>=1.17 in /home/mchao002/envs/st-unet/lib/python3.7/site-packages (from seaborn) (1.21.6)\n",
      "Collecting pandas>=0.25 (from seaborn)\n",
      "  Downloading pandas-1.3.5-cp37-cp37m-manylinux_2_17_x86_64.manylinux2014_x86_64.whl.metadata (12 kB)\n",
      "Requirement already satisfied: matplotlib!=3.6.1,>=3.1 in /home/mchao002/envs/st-unet/lib/python3.7/site-packages (from seaborn) (3.5.3)\n",
      "Requirement already satisfied: typing_extensions in /home/mchao002/envs/st-unet/lib/python3.7/site-packages (from seaborn) (4.7.1)\n",
      "Requirement already satisfied: cycler>=0.10 in /home/mchao002/envs/st-unet/lib/python3.7/site-packages (from matplotlib!=3.6.1,>=3.1->seaborn) (0.11.0)\n",
      "Requirement already satisfied: fonttools>=4.22.0 in /home/mchao002/envs/st-unet/lib/python3.7/site-packages (from matplotlib!=3.6.1,>=3.1->seaborn) (4.38.0)\n",
      "Requirement already satisfied: kiwisolver>=1.0.1 in /home/mchao002/envs/st-unet/lib/python3.7/site-packages (from matplotlib!=3.6.1,>=3.1->seaborn) (1.4.5)\n",
      "Requirement already satisfied: packaging>=20.0 in /home/mchao002/envs/st-unet/lib/python3.7/site-packages (from matplotlib!=3.6.1,>=3.1->seaborn) (24.0)\n",
      "Requirement already satisfied: pillow>=6.2.0 in /home/mchao002/envs/st-unet/lib/python3.7/site-packages (from matplotlib!=3.6.1,>=3.1->seaborn) (9.5.0)\n",
      "Requirement already satisfied: pyparsing>=2.2.1 in /home/mchao002/envs/st-unet/lib/python3.7/site-packages (from matplotlib!=3.6.1,>=3.1->seaborn) (3.1.4)\n",
      "Requirement already satisfied: python-dateutil>=2.7 in /home/mchao002/envs/st-unet/lib/python3.7/site-packages (from matplotlib!=3.6.1,>=3.1->seaborn) (2.9.0.post0)\n",
      "Requirement already satisfied: pytz>=2017.3 in /home/mchao002/envs/st-unet/lib/python3.7/site-packages (from pandas>=0.25->seaborn) (2024.2)\n",
      "Requirement already satisfied: six>=1.5 in /home/mchao002/envs/st-unet/lib/python3.7/site-packages (from python-dateutil>=2.7->matplotlib!=3.6.1,>=3.1->seaborn) (1.16.0)\n",
      "Downloading seaborn-0.12.2-py3-none-any.whl (293 kB)\n",
      "\u001b[2K   \u001b[90m━━━━━━━━━━━━━━━━━━━━━━━━━━━━━━━━━━━━━━━━\u001b[0m \u001b[32m293.3/293.3 kB\u001b[0m \u001b[31m7.2 MB/s\u001b[0m eta \u001b[36m0:00:00\u001b[0m:00:01\u001b[0m\n",
      "\u001b[?25hDownloading pandas-1.3.5-cp37-cp37m-manylinux_2_17_x86_64.manylinux2014_x86_64.whl (11.3 MB)\n",
      "\u001b[2K   \u001b[90m━━━━━━━━━━━━━━━━━━━━━━━━━━━━━━━━━━━━━━━━\u001b[0m \u001b[32m11.3/11.3 MB\u001b[0m \u001b[31m29.0 MB/s\u001b[0m eta \u001b[36m0:00:00\u001b[0m00:01\u001b[0m00:01\u001b[0m\n",
      "\u001b[?25hInstalling collected packages: pandas, seaborn\n",
      "Successfully installed pandas-1.3.5 seaborn-0.12.2\n",
      "Note: you may need to restart the kernel to use updated packages.\n"
     ]
    }
   ],
   "source": [
    "pip install seaborn"
   ]
  },
  {
   "cell_type": "code",
   "execution_count": 4,
   "id": "IogmHE-v1rAE",
   "metadata": {
    "colab": {
     "base_uri": "https://localhost:8080/"
    },
    "id": "IogmHE-v1rAE",
    "outputId": "c0165bdb-1a12-44f5-e6a7-0d1482a4be9f",
    "tags": []
   },
   "outputs": [
    {
     "name": "stdout",
     "output_type": "stream",
     "text": [
      "Collecting nltk\n",
      "  Downloading nltk-3.8.1-py3-none-any.whl.metadata (2.8 kB)\n",
      "Requirement already satisfied: click in /home/mchao002/envs/st-unet/lib/python3.7/site-packages (from nltk) (8.1.7)\n",
      "Collecting joblib (from nltk)\n",
      "  Downloading joblib-1.3.2-py3-none-any.whl.metadata (5.4 kB)\n",
      "Collecting regex>=2021.8.3 (from nltk)\n",
      "  Downloading regex-2024.4.16-cp37-cp37m-manylinux_2_17_x86_64.manylinux2014_x86_64.whl.metadata (40 kB)\n",
      "\u001b[2K     \u001b[90m━━━━━━━━━━━━━━━━━━━━━━━━━━━━━━━━━━━━━━━━\u001b[0m \u001b[32m40.9/40.9 kB\u001b[0m \u001b[31m1.8 MB/s\u001b[0m eta \u001b[36m0:00:00\u001b[0m\n",
      "\u001b[?25hRequirement already satisfied: tqdm in /home/mchao002/envs/st-unet/lib/python3.7/site-packages (from nltk) (4.67.1)\n",
      "Requirement already satisfied: importlib-metadata in /home/mchao002/envs/st-unet/lib/python3.7/site-packages (from click->nltk) (6.7.0)\n",
      "Requirement already satisfied: zipp>=0.5 in /home/mchao002/envs/st-unet/lib/python3.7/site-packages (from importlib-metadata->click->nltk) (3.15.0)\n",
      "Requirement already satisfied: typing-extensions>=3.6.4 in /home/mchao002/envs/st-unet/lib/python3.7/site-packages (from importlib-metadata->click->nltk) (4.7.1)\n",
      "Downloading nltk-3.8.1-py3-none-any.whl (1.5 MB)\n",
      "\u001b[2K   \u001b[90m━━━━━━━━━━━━━━━━━━━━━━━━━━━━━━━━━━━━━━━━\u001b[0m \u001b[32m1.5/1.5 MB\u001b[0m \u001b[31m23.9 MB/s\u001b[0m eta \u001b[36m0:00:00\u001b[0m00:01\u001b[0m\n",
      "\u001b[?25hDownloading regex-2024.4.16-cp37-cp37m-manylinux_2_17_x86_64.manylinux2014_x86_64.whl (761 kB)\n",
      "\u001b[2K   \u001b[90m━━━━━━━━━━━━━━━━━━━━━━━━━━━━━━━━━━━━━━━━\u001b[0m \u001b[32m761.6/761.6 kB\u001b[0m \u001b[31m19.0 MB/s\u001b[0m eta \u001b[36m0:00:00\u001b[0m00:01\u001b[0m\n",
      "\u001b[?25hDownloading joblib-1.3.2-py3-none-any.whl (302 kB)\n",
      "\u001b[2K   \u001b[90m━━━━━━━━━━━━━━━━━━━━━━━━━━━━━━━━━━━━━━━━\u001b[0m \u001b[32m302.2/302.2 kB\u001b[0m \u001b[31m11.6 MB/s\u001b[0m eta \u001b[36m0:00:00\u001b[0m\n",
      "\u001b[?25hInstalling collected packages: regex, joblib, nltk\n",
      "Successfully installed joblib-1.3.2 nltk-3.8.1 regex-2024.4.16\n",
      "Note: you may need to restart the kernel to use updated packages.\n"
     ]
    }
   ],
   "source": [
    "pip install nltk"
   ]
  },
  {
   "cell_type": "code",
   "execution_count": 5,
   "id": "2c84ba04-1aec-4067-b4fd-7d4791325b22",
   "metadata": {
    "tags": []
   },
   "outputs": [
    {
     "name": "stdout",
     "output_type": "stream",
     "text": [
      "Collecting scikit-learn\n",
      "  Downloading scikit_learn-1.0.2-cp37-cp37m-manylinux_2_17_x86_64.manylinux2014_x86_64.whl.metadata (10 kB)\n",
      "Requirement already satisfied: numpy>=1.14.6 in /home/mchao002/envs/st-unet/lib/python3.7/site-packages (from scikit-learn) (1.21.6)\n",
      "Requirement already satisfied: scipy>=1.1.0 in /home/mchao002/envs/st-unet/lib/python3.7/site-packages (from scikit-learn) (1.7.3)\n",
      "Requirement already satisfied: joblib>=0.11 in /home/mchao002/envs/st-unet/lib/python3.7/site-packages (from scikit-learn) (1.3.2)\n",
      "Collecting threadpoolctl>=2.0.0 (from scikit-learn)\n",
      "  Downloading threadpoolctl-3.1.0-py3-none-any.whl.metadata (9.2 kB)\n",
      "Downloading scikit_learn-1.0.2-cp37-cp37m-manylinux_2_17_x86_64.manylinux2014_x86_64.whl (24.8 MB)\n",
      "\u001b[2K   \u001b[90m━━━━━━━━━━━━━━━━━━━━━━━━━━━━━━━━━━━━━━━━\u001b[0m \u001b[32m24.8/24.8 MB\u001b[0m \u001b[31m26.9 MB/s\u001b[0m eta \u001b[36m0:00:00\u001b[0m:00:01\u001b[0m00:01\u001b[0m\n",
      "\u001b[?25hDownloading threadpoolctl-3.1.0-py3-none-any.whl (14 kB)\n",
      "Installing collected packages: threadpoolctl, scikit-learn\n",
      "Successfully installed scikit-learn-1.0.2 threadpoolctl-3.1.0\n",
      "Note: you may need to restart the kernel to use updated packages.\n"
     ]
    }
   ],
   "source": [
    "pip install --upgrade scikit-learn"
   ]
  },
  {
   "cell_type": "code",
   "execution_count": 6,
   "id": "qcLsigQe5PIm",
   "metadata": {
    "colab": {
     "base_uri": "https://localhost:8080/"
    },
    "id": "qcLsigQe5PIm",
    "outputId": "c0f8c8bc-45a2-4afd-a5a2-2a5342a7d95e",
    "tags": []
   },
   "outputs": [
    {
     "name": "stdout",
     "output_type": "stream",
     "text": [
      "Collecting gensim\n",
      "  Downloading gensim-4.2.0-cp37-cp37m-manylinux_2_12_x86_64.manylinux2010_x86_64.whl.metadata (8.5 kB)\n",
      "Requirement already satisfied: numpy>=1.17.0 in /home/mchao002/envs/st-unet/lib/python3.7/site-packages (from gensim) (1.21.6)\n",
      "Requirement already satisfied: scipy>=0.18.1 in /home/mchao002/envs/st-unet/lib/python3.7/site-packages (from gensim) (1.7.3)\n",
      "Collecting smart-open>=1.8.1 (from gensim)\n",
      "  Downloading smart_open-7.1.0-py3-none-any.whl.metadata (24 kB)\n",
      "Requirement already satisfied: wrapt in /home/mchao002/envs/st-unet/lib/python3.7/site-packages (from smart-open>=1.8.1->gensim) (1.16.0)\n",
      "Downloading gensim-4.2.0-cp37-cp37m-manylinux_2_12_x86_64.manylinux2010_x86_64.whl (24.1 MB)\n",
      "\u001b[2K   \u001b[90m━━━━━━━━━━━━━━━━━━━━━━━━━━━━━━━━━━━━━━━━\u001b[0m \u001b[32m24.1/24.1 MB\u001b[0m \u001b[31m28.3 MB/s\u001b[0m eta \u001b[36m0:00:00\u001b[0m:00:01\u001b[0m00:01\u001b[0m\n",
      "\u001b[?25hDownloading smart_open-7.1.0-py3-none-any.whl (61 kB)\n",
      "\u001b[2K   \u001b[90m━━━━━━━━━━━━━━━━━━━━━━━━━━━━━━━━━━━━━━━━\u001b[0m \u001b[32m61.7/61.7 kB\u001b[0m \u001b[31m2.9 MB/s\u001b[0m eta \u001b[36m0:00:00\u001b[0m\n",
      "\u001b[?25hInstalling collected packages: smart-open, gensim\n",
      "Successfully installed gensim-4.2.0 smart-open-7.1.0\n",
      "Note: you may need to restart the kernel to use updated packages.\n"
     ]
    }
   ],
   "source": [
    "pip install gensim"
   ]
  },
  {
   "cell_type": "code",
   "execution_count": null,
   "id": "cbaf8bd1-81bd-450b-903d-bc667a718482",
   "metadata": {
    "tags": []
   },
   "outputs": [],
   "source": [
    "pip install kagglehub"
   ]
  },
  {
   "cell_type": "code",
   "execution_count": null,
   "id": "671044b8-5daa-4192-a5e8-cfac431b3597",
   "metadata": {
    "tags": []
   },
   "outputs": [],
   "source": [
    "import tensorflow as tf\n",
    "print(\"GPU Available:\", tf.config.list_physical_devices('GPU'))"
   ]
  },
  {
   "cell_type": "code",
   "execution_count": null,
   "id": "7f204d14-96df-4014-b069-cef94c3ebafd",
   "metadata": {
    "tags": []
   },
   "outputs": [],
   "source": [
    "pip install cupy-cuda11x "
   ]
  },
  {
   "cell_type": "code",
   "execution_count": null,
   "id": "f1910a2f-7024-4d08-becc-678b913aec04",
   "metadata": {
    "tags": []
   },
   "outputs": [],
   "source": [
    "pip install numba"
   ]
  },
  {
   "cell_type": "code",
   "execution_count": null,
   "id": "a1ba7a74-2dfc-46f4-9b6c-c73f42635ddd",
   "metadata": {
    "id": "a1ba7a74-2dfc-46f4-9b6c-c73f42635ddd",
    "tags": []
   },
   "outputs": [],
   "source": [
    "import pandas as pd\n",
    "import kagglehub\n",
    "import string\n",
    "import nltk\n",
    "nltk.download('punkt_tab')\n",
    "nltk.download('stopwords')\n",
    "nltk.download('punkt')\n",
    "import re\n",
    "from nltk.tokenize import word_tokenize\n",
    "from nltk.corpus import stopwords\n",
    "import numpy as np\n",
    "from sklearn.model_selection import train_test_split\n",
    "#from gensim.models import Word2Vec\n",
    "\n",
    "import keras.backend as K\n",
    "import tensorflow as tf\n",
    "import operator\n",
    "from tensorflow.keras.preprocessing.text import Tokenizer\n",
    "from tensorflow.keras.models import Sequential\n",
    "from tensorflow.keras.preprocessing.text import Tokenizer\n",
    "from tensorflow.keras.layers import Dense, Embedding, Reshape, Lambda\n",
    "#from tensorflow.keras.utils import to_categorical\n",
    "from tensorflow.keras.preprocessing.text import Tokenizer\n",
    "from tensorflow.keras.utils import plot_model\n",
    "\n",
    "from sklearn.metrics.pairwise import cosine_similarity\n",
    "import pandas as pd\n",
    "from collections import defaultdict, Counter"
   ]
  },
  {
   "cell_type": "code",
   "execution_count": null,
   "id": "e0a724d2-02ec-430c-b4c4-cf666b48dd3d",
   "metadata": {
    "id": "e0a724d2-02ec-430c-b4c4-cf666b48dd3d",
    "tags": []
   },
   "outputs": [],
   "source": [
    "path = kagglehub.dataset_download(\"rounakbanik/ted-talks\")\n",
    "df = pd.read_csv(r\"\"+ path + \"/transcripts.csv\")"
   ]
  },
  {
   "cell_type": "code",
   "execution_count": 4,
   "id": "656e690a-e279-4c3f-a867-79514b3cdd04",
   "metadata": {
    "id": "656e690a-e279-4c3f-a867-79514b3cdd04",
    "tags": []
   },
   "outputs": [],
   "source": [
    "#turning transcripts to list of strings\n",
    "transcripts = df['transcript'].to_list()"
   ]
  },
  {
   "cell_type": "code",
   "execution_count": 5,
   "id": "fc6d9be8-3175-4c6d-9566-6dd136fda25e",
   "metadata": {
    "id": "fc6d9be8-3175-4c6d-9566-6dd136fda25e",
    "tags": []
   },
   "outputs": [],
   "source": [
    "#put all words in lower case\n",
    "transcripts = [transcript.lower() for transcript in transcripts]"
   ]
  },
  {
   "cell_type": "code",
   "execution_count": 6,
   "id": "e92f0511-939b-4505-a9df-68bbde564529",
   "metadata": {
    "id": "e92f0511-939b-4505-a9df-68bbde564529",
    "tags": []
   },
   "outputs": [],
   "source": [
    "#removing punctuations and special characters\n",
    "transcripts = [re.sub(r'[^A-Za-z0-9\\s]', ' ', transcript) for transcript in transcripts ]"
   ]
  },
  {
   "cell_type": "code",
   "execution_count": 7,
   "id": "0d2a811e-2f10-4317-91c4-f0bf614f508f",
   "metadata": {
    "id": "0d2a811e-2f10-4317-91c4-f0bf614f508f",
    "tags": []
   },
   "outputs": [],
   "source": [
    "#tokenize each text in the transcripts\n",
    "tokens =  [word_tokenize(transcript) for transcript in transcripts]"
   ]
  },
  {
   "cell_type": "code",
   "execution_count": 8,
   "id": "88e4346e-c19f-4c87-ac65-19617bf1a9dd",
   "metadata": {
    "id": "88e4346e-c19f-4c87-ac65-19617bf1a9dd",
    "tags": []
   },
   "outputs": [],
   "source": [
    "#removing stopwords\n",
    "stopwords = stopwords.words('english')\n",
    "corpus = [[token for token in sublist if token not in stopwords] for sublist in tokens]"
   ]
  },
  {
   "cell_type": "code",
   "execution_count": 9,
   "id": "U7-kqsBMIo1C",
   "metadata": {
    "id": "U7-kqsBMIo1C",
    "tags": []
   },
   "outputs": [],
   "source": [
    "reduced_corpus, test = train_test_split(corpus, test_size=0.99, random_state=42)"
   ]
  },
  {
   "cell_type": "code",
   "execution_count": 10,
   "id": "28f496de-6dde-4b6a-9430-2048d5e5165a",
   "metadata": {},
   "outputs": [],
   "source": [
    "reduced_corpus1 = [item for sublist in reduced_corpus for item in sublist]"
   ]
  },
  {
   "cell_type": "code",
   "execution_count": 11,
   "id": "7dWAuR6bSha9",
   "metadata": {
    "id": "7dWAuR6bSha9",
    "tags": []
   },
   "outputs": [],
   "source": [
    "corpus1 = [item for sublist in corpus for item in sublist]"
   ]
  },
  {
   "cell_type": "code",
   "execution_count": 12,
   "id": "xRIGddwlv92N",
   "metadata": {
    "id": "xRIGddwlv92N",
    "tags": []
   },
   "outputs": [],
   "source": [
    "corpus2 = \" \".join(corpus1)"
   ]
  },
  {
   "cell_type": "code",
   "execution_count": 13,
   "id": "HH1W4PxhVl1A",
   "metadata": {
    "id": "HH1W4PxhVl1A",
    "tags": []
   },
   "outputs": [],
   "source": [
    "corpus3 = [ \" \".join(i) for i in corpus]"
   ]
  },
  {
   "cell_type": "markdown",
   "id": "7PqgoNh7IxTf",
   "metadata": {
    "id": "7PqgoNh7IxTf"
   },
   "source": [
    "# PPMI"
   ]
  },
  {
   "cell_type": "code",
   "execution_count": 17,
   "id": "d96cb811-ed81-4a32-a6e2-98fa9ad7e980",
   "metadata": {
    "tags": []
   },
   "outputs": [
    {
     "name": "stdout",
     "output_type": "stream",
     "text": [
      "Processing corpus and calculating PPMI matrix...\n",
      "\n",
      "PPMI Matrix:\n",
      "                        ninety  fazed  letdown  welcomes  bernese  retoucher  \\\n",
      "ninety                     0.0    0.0      0.0       0.0      0.0        0.0   \n",
      "fazed                      0.0    0.0      0.0       0.0      0.0        0.0   \n",
      "letdown                    0.0    0.0      0.0       0.0      0.0        0.0   \n",
      "welcomes                   0.0    0.0      0.0       0.0      0.0        0.0   \n",
      "bernese                    0.0    0.0      0.0       0.0      0.0        0.0   \n",
      "...                        ...    ...      ...       ...      ...        ...   \n",
      "hasson                     0.0    0.0      0.0       0.0      0.0        0.0   \n",
      "nubs                       0.0    0.0      0.0       0.0      0.0        0.0   \n",
      "finagle                    0.0    0.0      0.0       0.0      0.0        0.0   \n",
      "bracelet                   0.0    0.0      0.0       0.0      0.0        0.0   \n",
      "ayearofreadingtheworld     0.0    0.0      0.0       0.0      0.0        0.0   \n",
      "\n",
      "                        overawed  ponies  oxide  bulldozers  ...  kathas  544  \\\n",
      "ninety                       0.0     0.0    0.0         0.0  ...     0.0  0.0   \n",
      "fazed                        0.0     0.0    0.0         0.0  ...     0.0  0.0   \n",
      "letdown                      0.0     0.0    0.0         0.0  ...     0.0  0.0   \n",
      "welcomes                     0.0     0.0    0.0         0.0  ...     0.0  0.0   \n",
      "bernese                      0.0     0.0    0.0         0.0  ...     0.0  0.0   \n",
      "...                          ...     ...    ...         ...  ...     ...  ...   \n",
      "hasson                       0.0     0.0    0.0         0.0  ...     0.0  0.0   \n",
      "nubs                         0.0     0.0    0.0         0.0  ...     0.0  0.0   \n",
      "finagle                      0.0     0.0    0.0         0.0  ...     0.0  0.0   \n",
      "bracelet                     0.0     0.0    0.0         0.0  ...     0.0  0.0   \n",
      "ayearofreadingtheworld       0.0     0.0    0.0         0.0  ...     0.0  0.0   \n",
      "\n",
      "                        mammatus  hannibal  transmilenio  hasson  nubs  \\\n",
      "ninety                       0.0       0.0           0.0     0.0   0.0   \n",
      "fazed                        0.0       0.0           0.0     0.0   0.0   \n",
      "letdown                      0.0       0.0           0.0     0.0   0.0   \n",
      "welcomes                     0.0       0.0           0.0     0.0   0.0   \n",
      "bernese                      0.0       0.0           0.0     0.0   0.0   \n",
      "...                          ...       ...           ...     ...   ...   \n",
      "hasson                       0.0       0.0           0.0     0.0   0.0   \n",
      "nubs                         0.0       0.0           0.0     0.0   0.0   \n",
      "finagle                      0.0       0.0           0.0     0.0   0.0   \n",
      "bracelet                     0.0       0.0           0.0     0.0   0.0   \n",
      "ayearofreadingtheworld       0.0       0.0           0.0     0.0   0.0   \n",
      "\n",
      "                        finagle  bracelet  ayearofreadingtheworld  \n",
      "ninety                      0.0       0.0                     0.0  \n",
      "fazed                       0.0       0.0                     0.0  \n",
      "letdown                     0.0       0.0                     0.0  \n",
      "welcomes                    0.0       0.0                     0.0  \n",
      "bernese                     0.0       0.0                     0.0  \n",
      "...                         ...       ...                     ...  \n",
      "hasson                      0.0       0.0                     0.0  \n",
      "nubs                        0.0       0.0                     0.0  \n",
      "finagle                     0.0       0.0                     0.0  \n",
      "bracelet                    0.0       0.0                     0.0  \n",
      "ayearofreadingtheworld      0.0       0.0                     0.0  \n",
      "\n",
      "[58557 rows x 58557 columns]\n"
     ]
    }
   ],
   "source": [
    "import numpy as np\n",
    "import pandas as pd\n",
    "from numba import njit, prange\n",
    "\n",
    "def build_co_occurrence_matrix(corpus, window_size=2):\n",
    "    \"\"\"\n",
    "    Build a co-occurrence matrix from a text corpus.\n",
    "\n",
    "    Args:\n",
    "    - corpus (list of str): Tokenized corpus (list of words).\n",
    "    - window_size (int): Size of the context window.\n",
    "\n",
    "    Returns:\n",
    "    - co_occurrence_matrix (np.ndarray): Co-occurrence matrix.\n",
    "    - vocab (list): List of vocabulary words (row/column indices).\n",
    "    \"\"\"\n",
    "    # Build vocabulary\n",
    "    vocab = list(set(corpus))\n",
    "    vocab_size = len(vocab)\n",
    "    word_to_id = {word: idx for idx, word in enumerate(vocab)}\n",
    "\n",
    "    # Initialize co-occurrence matrix\n",
    "    co_occurrence = np.zeros((vocab_size, vocab_size), dtype=np.int32)\n",
    "\n",
    "    # Slide over the corpus with a context window\n",
    "    for i, word in enumerate(corpus):\n",
    "        target_word_id = word_to_id[word]\n",
    "        start = max(0, i - window_size)\n",
    "        end = min(len(corpus), i + window_size + 1)\n",
    "        for j in range(start, end):\n",
    "            if i != j:  # Skip the target word itself\n",
    "                context_word_id = word_to_id[corpus[j]]\n",
    "                co_occurrence[target_word_id, context_word_id] += 1\n",
    "\n",
    "    return co_occurrence, vocab\n",
    "\n",
    "@njit(parallel=True)\n",
    "def calculate_ppmi(co_occurrence_matrix):\n",
    "    \"\"\"\n",
    "    Calculate the PPMI (Positive Pointwise Mutual Information) matrix\n",
    "    from a co-occurrence matrix using Numba for parallelism.\n",
    "\n",
    "    Args:\n",
    "    - co_occurrence_matrix (np.ndarray): Co-occurrence matrix.\n",
    "\n",
    "    Returns:\n",
    "    - ppmi_matrix (np.ndarray): PPMI matrix.\n",
    "    \"\"\"\n",
    "    total_count = co_occurrence_matrix.sum()\n",
    "    word_counts = co_occurrence_matrix.sum(axis=1)\n",
    "    context_counts = co_occurrence_matrix.sum(axis=0)\n",
    "    ppmi_matrix = np.zeros_like(co_occurrence_matrix, dtype=np.float64)\n",
    "\n",
    "    for i in prange(co_occurrence_matrix.shape[0]):\n",
    "        for j in prange(co_occurrence_matrix.shape[1]):\n",
    "            if co_occurrence_matrix[i, j] > 0:\n",
    "                joint_prob = co_occurrence_matrix[i, j] / total_count\n",
    "                p_word = word_counts[i] / total_count\n",
    "                p_context = context_counts[j] / total_count\n",
    "                pmi = np.log2(joint_prob / (p_word * p_context))\n",
    "                ppmi_matrix[i, j] = max(pmi, 0)\n",
    "\n",
    "    return ppmi_matrix\n",
    "\n",
    "def process_corpus(corpus_text, window_size=2):\n",
    "    \"\"\"\n",
    "    Process a corpus to calculate the PPMI matrix using optimized methods.\n",
    "\n",
    "    Args:\n",
    "    - corpus_text (str): Raw text corpus.\n",
    "    - window_size (int): Size of the context window.\n",
    "\n",
    "    Returns:\n",
    "    - ppmi_df (pd.DataFrame): PPMI matrix as a DataFrame.\n",
    "    \"\"\"\n",
    "    # Tokenize corpus\n",
    "    tokens = corpus_text.lower().split()\n",
    "\n",
    "    # Build co-occurrence matrix\n",
    "    co_occurrence_matrix, vocab = build_co_occurrence_matrix(tokens, window_size)\n",
    "\n",
    "    # Calculate PPMI matrix\n",
    "    ppmi_matrix = calculate_ppmi(co_occurrence_matrix)\n",
    "\n",
    "    # Convert to DataFrame\n",
    "    ppmi_df = pd.DataFrame(ppmi_matrix, index=vocab, columns=vocab)\n",
    "    return ppmi_df\n",
    "\n",
    "# Main Function\n",
    "if __name__ == \"__main__\":\n",
    "    # Example corpus\n",
    "\n",
    "    # Set context window size\n",
    "    window_size = 2\n",
    "\n",
    "    # Process the corpus and calculate PPMI matrix\n",
    "    print(\"Processing corpus and calculating PPMI matrix...\")\n",
    "    ppmi_df = process_corpus(corpus2, window_size)\n",
    "\n",
    "    # Display the PPMI matrix\n",
    "    print(\"\\nPPMI Matrix:\")\n",
    "    print(ppmi_df)\n"
   ]
  },
  {
   "cell_type": "code",
   "execution_count": 18,
   "id": "9aeeb5b2-2927-4a47-b4b3-6dc1a121053d",
   "metadata": {
    "tags": []
   },
   "outputs": [
    {
     "name": "stdout",
     "output_type": "stream",
     "text": [
      "Calculating word pair similarities...\n",
      "\n",
      "PPMI Similarities:\n",
      "[('technology', 'innovation', 0.08962577733329417), ('global', 'climate', 0.12959440071429995), ('future', 'artificial', 0.039068547839891145), ('education', 'learning', 0.100666940033157)]\n"
     ]
    }
   ],
   "source": [
    "from sklearn.metrics.pairwise import cosine_similarity\n",
    "from joblib import Parallel, delayed\n",
    "\n",
    "def extract_word_pair_similarity(ppmi_matrix, vocab, word1, word2):\n",
    "    \"\"\"\n",
    "    Extract the similarity between two words using the PPMI matrix.\n",
    "\n",
    "    Args:\n",
    "    - ppmi_matrix (np.ndarray): PPMI matrix.\n",
    "    - vocab (list): List of vocabulary words (row/column labels).\n",
    "    - word1 (str): The first word.\n",
    "    - word2 (str): The second word.\n",
    "\n",
    "    Returns:\n",
    "    - (str, str, float): Word pair and their cosine similarity.\n",
    "    \"\"\"\n",
    "    if word1 not in vocab or word2 not in vocab:\n",
    "        return word1, word2, None\n",
    "\n",
    "    # Get indices for the words\n",
    "    idx1 = vocab.index(word1)\n",
    "    idx2 = vocab.index(word2)\n",
    "\n",
    "    # Extract corresponding vectors\n",
    "    vec1 = ppmi_matrix[idx1].reshape(1, -1)\n",
    "    vec2 = ppmi_matrix[idx2].reshape(1, -1)\n",
    "\n",
    "    # Compute cosine similarity\n",
    "    similarity = cosine_similarity(vec1, vec2)[0][0]\n",
    "    return word1, word2, similarity\n",
    "\n",
    "def parallel_word_pair_similarities(ppmi_matrix, vocab, word_pairs, n_jobs=-1):\n",
    "    \"\"\"\n",
    "    Compute similarities for multiple word pairs in parallel.\n",
    "\n",
    "    Args:\n",
    "    - ppmi_matrix (np.ndarray): PPMI matrix.\n",
    "    - vocab (list): List of vocabulary words (row/column labels).\n",
    "    - word_pairs (list of tuples): List of word pairs (e.g., [(\"word1\", \"word2\"), ...]).\n",
    "    - n_jobs (int): Number of parallel jobs (default: -1, uses all CPUs).\n",
    "\n",
    "    Returns:\n",
    "    - similarities (list of tuples): List of word pairs with their cosine similarity.\n",
    "    \"\"\"\n",
    "    similarities = Parallel(n_jobs=n_jobs)(\n",
    "        delayed(extract_word_pair_similarity)(ppmi_matrix, vocab, w1, w2)\n",
    "        for w1, w2 in word_pairs\n",
    "    )\n",
    "    return similarities\n",
    "\n",
    "# Main Function\n",
    "if __name__ == \"__main__\":\n",
    "\n",
    "    # Define word pairs for similarity computation\n",
    "    word_pairs = [\n",
    "        (\"technology\", \"innovation\"),\n",
    "        (\"global\", \"climate\"),\n",
    "        (\"future\", \"artificial\"),\n",
    "        (\"education\", \"learning\")\n",
    "    ]\n",
    "\n",
    " # Compute similarities in parallel\n",
    "    print(\"Calculating word pair similarities...\")\n",
    "    similarities = parallel_word_pair_similarities(ppmi_df.values, list(ppmi_df.index), word_pairs)\n",
    "\n",
    "    # Format and print results\n",
    "    ppmi_similarities = [\n",
    "        (w1, w2, sim if sim is not None else None) for w1, w2, sim in similarities\n",
    "    ]\n",
    "\n",
    "    print(\"\\nPPMI Similarities:\")\n",
    "    print(ppmi_similarities)\n"
   ]
  },
  {
   "cell_type": "markdown",
   "id": "LmEuIjJJjXG7",
   "metadata": {
    "id": "LmEuIjJJjXG7"
   },
   "source": [
    "# Word2Vec"
   ]
  },
  {
   "cell_type": "code",
   "execution_count": 15,
   "id": "dffe924d-66ea-4e56-a94c-ecbea9508423",
   "metadata": {},
   "outputs": [
    {
     "name": "stdout",
     "output_type": "stream",
     "text": [
      "Epoch 1/20, Loss: 97658.4276\n",
      "Epoch 2/20, Loss: 93195.0868\n",
      "Epoch 3/20, Loss: 88419.3216\n",
      "Epoch 4/20, Loss: 82636.8491\n",
      "Epoch 5/20, Loss: 75908.4213\n",
      "Epoch 6/20, Loss: 68748.0145\n",
      "Epoch 7/20, Loss: 61717.6033\n",
      "Epoch 8/20, Loss: 55188.7932\n",
      "Epoch 9/20, Loss: 49331.9346\n",
      "Epoch 10/20, Loss: 44173.3176\n",
      "Epoch 11/20, Loss: 39671.3120\n",
      "Epoch 12/20, Loss: 35755.0062\n",
      "Epoch 13/20, Loss: 32347.0813\n",
      "Epoch 14/20, Loss: 29375.6410\n",
      "Epoch 15/20, Loss: 26776.7654\n",
      "Epoch 16/20, Loss: 24496.0012\n",
      "Epoch 17/20, Loss: 22487.2594\n",
      "Epoch 18/20, Loss: 20711.0396\n",
      "Epoch 19/20, Loss: 19134.2133\n",
      "Epoch 20/20, Loss: 17729.3595\n"
     ]
    }
   ],
   "source": [
    "import numpy as np\n",
    "from concurrent.futures import ThreadPoolExecutor\n",
    "\n",
    "\n",
    "# Define Word2Vec components\n",
    "def build_vocab(corpus):\n",
    "    \"\"\"\n",
    "    Build vocabulary and mappings.\n",
    "    \"\"\"\n",
    "    vocab = list(set(corpus))\n",
    "    word_to_id = {word: idx for idx, word in enumerate(vocab)}\n",
    "    id_to_word = {idx: word for word, idx in word_to_id.items()}\n",
    "    return vocab, word_to_id, id_to_word\n",
    "\n",
    "\n",
    "def generate_context_target_pairs(corpus_ids, window_size):\n",
    "    \"\"\"\n",
    "    Generate context-target pairs using a sliding window.\n",
    "    \"\"\"\n",
    "    pairs = []\n",
    "    for idx, target_word in enumerate(corpus_ids):\n",
    "        start = max(0, idx - window_size)\n",
    "        end = min(len(corpus_ids), idx + window_size + 1)\n",
    "        for context_word in corpus_ids[start:idx] + corpus_ids[idx + 1:end]:\n",
    "            pairs.append((target_word, context_word))\n",
    "    return pairs\n",
    "\n",
    "\n",
    "def sigmoid(x):\n",
    "    \"\"\"\n",
    "    Numerical stability for sigmoid function.\n",
    "    \"\"\"\n",
    "    x = np.clip(x, -15, 15)\n",
    "    return 1 / (1 + np.exp(-x))\n",
    "\n",
    "\n",
    "def train_word2vec(corpus, window_size, embedding_dim, negative_samples, epochs, learning_rate, num_threads=40):\n",
    "    \"\"\"\n",
    "    Train Word2Vec with parallelized updates.\n",
    "    \"\"\"\n",
    "    vocab, word_to_id, id_to_word = build_vocab(corpus)\n",
    "    vocab_size = len(vocab)\n",
    "    corpus_ids = [word_to_id[word] for word in corpus]\n",
    "\n",
    "    # Initialize embeddings\n",
    "    W = np.random.uniform(-0.5, 0.5, (vocab_size, embedding_dim))\n",
    "    C = np.random.uniform(-0.5, 0.5, (vocab_size, embedding_dim))\n",
    "\n",
    "    # Generate context-target pairs\n",
    "    pairs = generate_context_target_pairs(corpus_ids, window_size)\n",
    "\n",
    "    def train_chunk(chunk):\n",
    "        \"\"\"\n",
    "        Train on a chunk of context-target pairs.\n",
    "        \"\"\"\n",
    "        local_loss = 0\n",
    "        for target, context in chunk:\n",
    "            # Positive example\n",
    "            score = np.dot(W[target], C[context])\n",
    "            pos_prob = sigmoid(score)\n",
    "            grad_pos = 1 - pos_prob\n",
    "\n",
    "            # Update weights\n",
    "            W[target] += learning_rate * grad_pos * C[context]\n",
    "            C[context] += learning_rate * grad_pos * W[target]\n",
    "\n",
    "            # Compute loss\n",
    "            local_loss += -np.log(pos_prob + 1e-8)  # Numerical stability\n",
    "\n",
    "        return local_loss\n",
    "\n",
    "    # Main training Aloop\n",
    "    for epoch in range(epochs):\n",
    "        chunk_size = len(pairs) // num_threads\n",
    "        chunks = [pairs[i:i + chunk_size] for i in range(0, len(pairs), chunk_size)]\n",
    "\n",
    "        total_loss = 0\n",
    "        with ThreadPoolExecutor(max_workers=num_threads) as executor:\n",
    "            # Run training chunks in parallel\n",
    "            results = executor.map(train_chunk, chunks)\n",
    "            total_loss = sum(results)  # Aggregate losses\n",
    "\n",
    "        print(f\"Epoch {epoch + 1}/{epochs}, Loss: {total_loss:.4f}\")\n",
    "\n",
    "    return W + C, word_to_id\n",
    "\n",
    "\n",
    "def calculate_word_pair_similarities(embeddings, word_to_id, word_pairs):\n",
    "    \"\"\"\n",
    "    Calculate cosine similarities for given word pairs.\n",
    "    \"\"\"\n",
    "    similarities = []\n",
    "    for word1, word2 in word_pairs:\n",
    "        if word1 not in word_to_id or word2 not in word_to_id:\n",
    "            similarities.append((word1, word2, None))\n",
    "            continue\n",
    "        vec1 = embeddings[word_to_id[word1]]\n",
    "        vec2 = embeddings[word_to_id[word2]]\n",
    "        similarity = np.dot(vec1, vec2) / (np.linalg.norm(vec1) * np.linalg.norm(vec2))\n",
    "        similarities.append((word1, word2, similarity))\n",
    "    return similarities\n",
    "\n",
    "\n",
    "# Example Usage\n",
    "if __name__ == \"__main__\":\n",
    "    # Parameters\n",
    "    window_size = 3\n",
    "    embedding_dim = 50\n",
    "    negative_samples = 2\n",
    "    epochs = 20\n",
    "    learning_rate = 0.01\n",
    "\n",
    "\n",
    "\n",
    "    # Train Word2Vec model\n",
    "    embeddings, word_to_id = train_word2vec(reduced_corpus1, window_size, embedding_dim, negative_samples, epochs, learning_rate)"
   ]
  },
  {
   "cell_type": "code",
   "execution_count": 16,
   "id": "2cebf0b5-df54-479c-bf8f-cf11c44410b7",
   "metadata": {},
   "outputs": [
    {
     "name": "stdout",
     "output_type": "stream",
     "text": [
      "Word Pair Similarities:\n",
      "[('technology', 'innovation', None), ('global', 'climate', 0.15070285024804678), ('future', 'artificial', 0.40494693806647475), ('education', 'learning', 0.5005342665999098)]\n"
     ]
    }
   ],
   "source": [
    "    # Define word pairs\n",
    "    word_pairs = [\n",
    "        (\"technology\", \"innovation\"),\n",
    "        (\"global\", \"climate\"),\n",
    "        (\"future\", \"artificial\"),\n",
    "        (\"education\", \"learning\")\n",
    "    ]\n",
    "\n",
    "    # Calculate word pair similarities\n",
    "    word2vec_similarities = calculate_word_pair_similarities(embeddings, word_to_id, word_pairs)\n",
    "\n",
    "    # Display results\n",
    "    print(\"Word Pair Similarities:\")\n",
    "    print(word2vec_similarities)"
   ]
  },
  {
   "cell_type": "markdown",
   "id": "tEJd9b74uRt_",
   "metadata": {
    "id": "tEJd9b74uRt_"
   },
   "source": [
    "# TF-IDF"
   ]
  },
  {
   "cell_type": "code",
   "execution_count": 19,
   "id": "bbef9c94-56c8-41a9-ad37-5abdf7020bf5",
   "metadata": {
    "tags": []
   },
   "outputs": [
    {
     "name": "stdout",
     "output_type": "stream",
     "text": [
      "\n",
      "Word Pair Similarities:\n",
      "technology - innovation: 0.1623\n",
      "global - climate: 0.3504\n",
      "future - artificial: 0.1103\n",
      "education - learning: 0.3362\n"
     ]
    }
   ],
   "source": [
    "from sklearn.feature_extraction.text import TfidfVectorizer\n",
    "from sklearn.metrics.pairwise import cosine_similarity\n",
    "from itertools import combinations\n",
    "import pandas as pd\n",
    "import re\n",
    "\n",
    "def calculate_tf_idf(corpus, min_df=2):\n",
    "    \"\"\"\n",
    "    Calculate the TF-IDF matrix for the given corpus with smoothing and filtering.\n",
    "\n",
    "    Args:\n",
    "    - corpus (list of str): List of documents as strings.\n",
    "    - min_df (int): Minimum document frequency to filter rare terms.\n",
    "\n",
    "    Returns:\n",
    "    - tf_idf_df (pd.DataFrame): TF-IDF matrix as a DataFrame.\n",
    "    \"\"\"\n",
    "    # Preprocess the corpus\n",
    "    \n",
    "\n",
    "    # Initialize TfidfVectorizer\n",
    "    vectorizer = TfidfVectorizer(smooth_idf=True, stop_words='english', min_df=min_df)\n",
    "\n",
    "    # Fit and transform the corpus\n",
    "    tf_idf_matrix = vectorizer.fit_transform(corpus)\n",
    "\n",
    "    # Create a DataFrame\n",
    "    tf_idf_df = pd.DataFrame(\n",
    "        tf_idf_matrix.toarray(),\n",
    "        columns=vectorizer.get_feature_names_out(),\n",
    "        index=[f\"Doc {i+1}\" for i in range(len(corpus))]\n",
    "    )\n",
    "\n",
    "    return tf_idf_df\n",
    "\n",
    "def calculate_word_pair_similarities(tf_idf_df, word_pairs):\n",
    "    \"\"\"\n",
    "    Calculate cosine similarity for a list of word pairs using a TF-IDF matrix.\n",
    "\n",
    "    Args:\n",
    "    - tf_idf_df (pd.DataFrame): TF-IDF matrix as a DataFrame.\n",
    "    - word_pairs (list of tuples): List of word pairs [(word1, word2), ...].\n",
    "\n",
    "    Returns:\n",
    "    - similarities (list of tuples): List of word pairs with their cosine similarity.\n",
    "    \"\"\"\n",
    "    similarities = []\n",
    "    for word1, word2 in word_pairs:\n",
    "        if word1 not in tf_idf_df.columns or word2 not in tf_idf_df.columns:\n",
    "            similarities.append((word1, word2, None))  # Handle missing words\n",
    "            continue\n",
    "\n",
    "        # Extract vectors for the two words\n",
    "        vec1 = tf_idf_df[word1].values.reshape(1, -1)\n",
    "        vec2 = tf_idf_df[word2].values.reshape(1, -1)\n",
    "\n",
    "        # Calculate cosine similarity\n",
    "        similarity = cosine_similarity(vec1, vec2)[0][0]\n",
    "        similarities.append((word1, word2, similarity))\n",
    "\n",
    "    return similarities\n",
    "\n",
    "def display_word_pair_similarities(similarities):\n",
    "    \"\"\"\n",
    "    Display word pair similarities in a readable format.\n",
    "\n",
    "    Args:\n",
    "    - similarities (list of tuples): Word pairs with their cosine similarity.\n",
    "    \"\"\"\n",
    "    print(\"\\nWord Pair Similarities:\")\n",
    "    for w1, w2, sim in similarities:\n",
    "        if sim is not None:\n",
    "            print(f\"{w1} - {w2}: {sim:.4f}\")\n",
    "        else:\n",
    "            print(f\"{w1} - {w2}: Not in vocabulary\")\n",
    "\n",
    "# Example usage\n",
    "if __name__ == \"__main__\":\n",
    "    # Sample corpus\n",
    "\n",
    "    # Define word pairs\n",
    "    word_pairs = [\n",
    "        (\"technology\", \"innovation\"),\n",
    "        (\"global\", \"climate\"),\n",
    "        (\"future\", \"artificial\"),\n",
    "        (\"education\", \"learning\")\n",
    "    ]\n",
    "\n",
    "    # Calculate TF-IDF matrix\n",
    "    tf_idf_df = calculate_tf_idf(corpus3, min_df=2)\n",
    "\n",
    "    # Calculate word pair similarities\n",
    "    tf_idf_similarities = calculate_word_pair_similarities(tf_idf_df, word_pairs)\n",
    "\n",
    "    # Display results\n",
    "    display_word_pair_similarities(tf_idf_similarities)\n"
   ]
  },
  {
   "cell_type": "markdown",
   "id": "1ce7adad-d6f1-484d-b075-d0d890ff375b",
   "metadata": {},
   "source": [
    "# Heatmaps"
   ]
  },
  {
   "cell_type": "code",
   "execution_count": 20,
   "id": "5cc4855d-13c1-401a-b9a2-f9b1df282067",
   "metadata": {},
   "outputs": [],
   "source": [
    "%matplotlib inline"
   ]
  },
  {
   "cell_type": "code",
   "execution_count": 22,
   "id": "488f173a-7ec0-436e-b546-a4895fd915fb",
   "metadata": {},
   "outputs": [],
   "source": [
    "import seaborn as sns\n",
    "import matplotlib.pyplot as plt\n",
    "import pandas as pd\n",
    "import numpy as np\n",
    "\n",
    "def create_similarity_heatmap(similarities, title, word_pairs):\n",
    "    \"\"\"\n",
    "    Create a heatmap for visualizing word pair similarities.\n",
    "\n",
    "    Args:\n",
    "    - similarities (list of tuples): List of word pair similarities [(w1, w2, score), ...].\n",
    "    - title (str): Title for the heatmap.\n",
    "    - word_pairs (list of tuples): List of word pairs.\n",
    "    \"\"\"\n",
    "    # Extract word pairs and similarities\n",
    "    words = list(set([pair[0] for pair in word_pairs] + [pair[1] for pair in word_pairs]))\n",
    "    similarity_matrix = np.zeros((len(words), len(words)))\n",
    "\n",
    "    word_to_idx = {word: idx for idx, word in enumerate(words)}\n",
    "\n",
    "    for w1, w2, sim in similarities:\n",
    "        if sim is not None:\n",
    "            i, j = word_to_idx[w1], word_to_idx[w2]\n",
    "            similarity_matrix[i, j] = sim\n",
    "            similarity_matrix[j, i] = sim  # Symmetric\n",
    "\n",
    "    # Create DataFrame for seaborn\n",
    "    similarity_df = pd.DataFrame(similarity_matrix, index=words, columns=words)\n",
    "\n",
    "    # Plot the heatmap\n",
    "    plt.figure(figsize=(8, 6))\n",
    "    sns.heatmap(similarity_df, annot=True, fmt=\".2f\", cmap=\"coolwarm\", cbar=True, xticklabels=True, yticklabels=True)\n",
    "    plt.title(title)\n",
    "    plt.xticks(rotation=45)\n",
    "    plt.yticks(rotation=0)\n",
    "    plt.tight_layout()\n",
    "    plt.show()"
   ]
  },
  {
   "cell_type": "code",
   "execution_count": 23,
   "id": "f2842164-c476-4914-8fe4-d131581c6e20",
   "metadata": {},
   "outputs": [
    {
     "data": {
      "image/png": "[encoded data removed]",
      "text/plain": [
       "<Figure size 800x600 with 2 Axes>"
      ]
     },
     "metadata": {},
     "output_type": "display_data"
    }
   ],
   "source": [
    "create_similarity_heatmap(ppmi_similarities, \"PPMI Word Pair Similarities\", word_pairs)"
   ]
  },
  {
   "cell_type": "code",
   "execution_count": 24,
   "id": "64068460-3ddf-4777-8afc-3a5dca246a1b",
   "metadata": {},
   "outputs": [
    {
     "data": {
      "image/png": "[encoded data removed]",
      "text/plain": [
       "<Figure size 800x600 with 2 Axes>"
      ]
     },
     "metadata": {},
     "output_type": "display_data"
    }
   ],
   "source": [
    "create_similarity_heatmap(tf_idf_similarities, \"TF-IDF Word Pair Similarities\", word_pairs)"
   ]
  },
  {
   "cell_type": "code",
   "execution_count": 25,
   "id": "14e326bd-00bc-4f54-9d37-6928ee666753",
   "metadata": {},
   "outputs": [
    {
     "data": {
      "image/png": "[encoded data removed]",
      "text/plain": [
       "<Figure size 800x600 with 2 Axes>"
      ]
     },
     "metadata": {},
     "output_type": "display_data"
    }
   ],
   "source": [
    "create_similarity_heatmap(word2vec_similarities, \"Word2Vec Word Pair Similarities\", word_pairs)"
   ]
  },
  {
   "cell_type": "code",
   "execution_count": null,
   "id": "ca98c6a3-06ff-4d88-a696-57a4dd8c9c51",
   "metadata": {},
   "outputs": [],
   "source": []
  }
 ],
 "metadata": {
  "accelerator": "GPU",
  "colab": {
   "gpuType": "T4",
   "provenance": []
  },
  "kernelspec": {
   "display_name": "Python 3 (ipykernel)",
   "language": "python",
   "name": "python3"
  },
  "language_info": {
   "codemirror_mode": {
    "name": "ipython",
    "version": 3
   },
   "file_extension": ".py",
   "mimetype": "text/x-python",
   "name": "python",
   "nbconvert_exporter": "python",
   "pygments_lexer": "ipython3",
   "version": "3.7.12"
  }
 },
 "nbformat": 4,
 "nbformat_minor": 5
}
